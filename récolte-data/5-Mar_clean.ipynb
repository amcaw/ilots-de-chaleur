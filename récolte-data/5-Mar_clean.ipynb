{
 "cells": [
  {
   "cell_type": "code",
   "execution_count": 1,
   "metadata": {},
   "outputs": [],
   "source": [
    "import pandas as pd"
   ]
  },
  {
   "cell_type": "code",
   "execution_count": 37,
   "metadata": {},
   "outputs": [
    {
     "name": "stderr",
     "output_type": "stream",
     "text": [
      "C:\\Users\\Décrypte\\AppData\\Local\\Temp\\ipykernel_19164\\728322550.py:5: SettingWithCopyWarning: \n",
      "A value is trying to be set on a copy of a slice from a DataFrame\n",
      "\n",
      "See the caveats in the documentation: https://pandas.pydata.org/pandas-docs/stable/user_guide/indexing.html#returning-a-view-versus-a-copy\n",
      "  df2.drop([\"Unnamed: 29\",\"Unnamed: 33\"],axis=1, inplace=True)\n",
      "C:\\Users\\Décrypte\\AppData\\Local\\Temp\\ipykernel_19164\\728322550.py:6: SettingWithCopyWarning: \n",
      "A value is trying to be set on a copy of a slice from a DataFrame.\n",
      "Try using .loc[row_indexer,col_indexer] = value instead\n",
      "\n",
      "See the caveats in the documentation: https://pandas.pydata.org/pandas-docs/stable/user_guide/indexing.html#returning-a-view-versus-a-copy\n",
      "  df2[\"Unnamed: 25\"] = pd.to_datetime(df2[\"Unnamed: 25\"], format=\"%Y\")\n",
      "C:\\Users\\Décrypte\\AppData\\Local\\Temp\\ipykernel_19164\\728322550.py:7: SettingWithCopyWarning: \n",
      "A value is trying to be set on a copy of a slice from a DataFrame\n",
      "\n",
      "See the caveats in the documentation: https://pandas.pydata.org/pandas-docs/stable/user_guide/indexing.html#returning-a-view-versus-a-copy\n",
      "  df2.dropna(inplace=True)\n"
     ]
    }
   ],
   "source": [
    "df = pd.read_excel(\"../data/MAR_predi.xlsx\")\n",
    "df.head()\n",
    "# df1 = df.rename(columns={\"Unnamed: 25\", \"year\"})\n",
    "df2 = df.iloc[:,25:37]\n",
    "df2.drop([\"Unnamed: 29\",\"Unnamed: 33\"],axis=1, inplace=True)\n",
    "df2[\"Unnamed: 25\"] = pd.to_datetime(df2[\"Unnamed: 25\"], format=\"%Y\")\n",
    "df2.dropna(inplace=True)\n",
    "df2.to_csv(\"../data/mar_clean.csv\")"
   ]
  }
 ],
 "metadata": {
  "kernelspec": {
   "display_name": "Python 3",
   "language": "python",
   "name": "python3"
  },
  "language_info": {
   "codemirror_mode": {
    "name": "ipython",
    "version": 3
   },
   "file_extension": ".py",
   "mimetype": "text/x-python",
   "name": "python",
   "nbconvert_exporter": "python",
   "pygments_lexer": "ipython3",
   "version": "3.11.4"
  },
  "orig_nbformat": 4
 },
 "nbformat": 4,
 "nbformat_minor": 2
}
